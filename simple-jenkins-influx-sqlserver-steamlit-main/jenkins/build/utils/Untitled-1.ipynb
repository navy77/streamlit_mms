{
 "cells": [
  {
   "cell_type": "code",
   "execution_count": 7,
   "metadata": {},
   "outputs": [
    {
     "name": "stdout",
     "output_type": "stream",
     "text": [
      "                          time status                 topic    yyyy\n",
      "0  2024-02-04T14:19:38.857254Z     s1  status/ball/insp/A01  2024.0\n",
      "1  2024-02-04T14:19:28.846503Z     s1  status/ball/insp/A01  2024.0\n"
     ]
    }
   ],
   "source": [
    "import pandas as pd\n",
    "\n",
    "# Your input dictionary\n",
    "input_dict = {'(\\'mqtt_consumer\\', None)': [\n",
    "    {'time': '2024-02-04T14:19:38.857254Z', 'status': 's1', 'topic': 'status/ball/insp/A01', 'yyyy': 2024.0},\n",
    "    {'time': '2024-02-04T14:19:28.846503Z', 'status': 's1', 'topic': 'status/ball/insp/A01', 'yyyy': 2024.0}\n",
    "]}\n",
    "\n",
    "# Extracting the values from the dictionary\n",
    "values_list = list(input_dict.values())[0]\n",
    "\n",
    "# Creating a DataFrame\n",
    "df = pd.DataFrame(values_list)\n",
    "\n",
    "# Displaying the DataFrame\n",
    "print(df)\n"
   ]
  },
  {
   "cell_type": "code",
   "execution_count": 8,
   "metadata": {},
   "outputs": [
    {
     "name": "stdout",
     "output_type": "stream",
     "text": [
      "                          time status                 topic    yyyy\n",
      "0  2024-02-04T14:40:29.748629Z     s1  status/ball/insp/A01  2024.0\n",
      "1  2024-02-04T14:40:19.737786Z     s1  status/ball/insp/A01  2024.0\n"
     ]
    }
   ],
   "source": [
    "import pandas as pd\n",
    "\n",
    "# Your nested list\n",
    "nested_list = [\n",
    "    [\n",
    "        {'time': '2024-02-04T14:40:29.748629Z', 'status': 's1', 'topic': 'status/ball/insp/A01', 'yyyy': 2024.0},\n",
    "        {'time': '2024-02-04T14:40:19.737786Z', 'status': 's1', 'topic': 'status/ball/insp/A01', 'yyyy': 2024.0}\n",
    "    ]\n",
    "]\n",
    "\n",
    "# Flatten the nested list\n",
    "flat_list = [item for sublist in nested_list for item in sublist]\n",
    "\n",
    "# Create a DataFrame\n",
    "df = pd.DataFrame(flat_list)\n",
    "\n",
    "# Display the DataFrame\n",
    "print(df)\n"
   ]
  },
  {
   "cell_type": "code",
   "execution_count": 9,
   "metadata": {},
   "outputs": [
    {
     "name": "stdout",
     "output_type": "stream",
     "text": [
      "  col1  col2 col3 combined\n",
      "0    A     1    X    A-1-X\n",
      "1    B     2    Y    B-2-Y\n",
      "2    C     3    Z    C-3-Z\n"
     ]
    }
   ],
   "source": [
    "import pandas as pd\n",
    "\n",
    "# Assuming you have a DataFrame df with three columns 'col1', 'col2', 'col3'\n",
    "df = pd.DataFrame({\n",
    "    'col1': ['A', 'B', 'C'],\n",
    "    'col2': [1, 2, 3],\n",
    "    'col3': ['X', 'Y', 'Z']\n",
    "})\n",
    "\n",
    "# Combine the three columns with \"-\"\n",
    "df['combined'] = df['col1'] + '-' + df['col2'].astype(str) + '-' + df['col3']\n",
    "\n",
    "# Display the modified DataFrame\n",
    "print(df)\n"
   ]
  },
  {
   "cell_type": "code",
   "execution_count": 10,
   "metadata": {},
   "outputs": [
    {
     "name": "stdout",
     "output_type": "stream",
     "text": [
      "            registered_at mc_no process  data1  data2  data3\n",
      "0 2024-02-05 21:01:01.837   A01    insp  777.0   22.0   33.0\n",
      "1 2024-02-05 21:01:01.837   A02    insp  888.0   22.0   33.0\n",
      "2 2024-02-05 21:00:30.363   A01    insp  777.0   22.0   33.0\n",
      "3 2024-02-05 21:00:30.363   A02    insp  888.0   22.0   33.0\n",
      "4 2024-02-05 20:59:06.607   A01    insp  777.0   22.0   33.0\n"
     ]
    }
   ],
   "source": [
    "import pandas as pd\n",
    "import pymssql\n",
    "from sqlalchemy import create_engine,text,engine\n",
    "# Connection parameters\n",
    "server = '192.168.1.66'\n",
    "database = 'ballDB'\n",
    "username = 'sa'\n",
    "password = 'sa$admin'\n",
    "\n",
    "\n",
    "# SQL Query with TOP 10\n",
    "\n",
    "engine = create_engine(f'mssql+pymssql://{username}:{password}@{server}/{database}')\n",
    "\n",
    "# SQL Query with TOP 10 using SQLAlchemy text()\n",
    "sql_query = text('SELECT TOP 5 * FROM [ballDB].[dbo].[DATA_PRODUCTION_INSP] ORDER BY registered_at  desc')\n",
    "\n",
    "df = pd.read_sql(sql_query, engine)\n",
    "\n",
    "# Display the DataFrame\n",
    "print(df)\n",
    "\n",
    "\n"
   ]
  },
  {
   "cell_type": "code",
   "execution_count": 11,
   "metadata": {},
   "outputs": [
    {
     "name": "stdout",
     "output_type": "stream",
     "text": [
      "  Name        \n",
      "  self   other\n",
      "1  Bob  Robert\n"
     ]
    }
   ],
   "source": [
    "import pandas as pd\n",
    "\n",
    "# Create two example DataFrames\n",
    "df1 = pd.DataFrame({\n",
    "    'ID': [1, 2, 3],\n",
    "    'Name': ['Alice', 'Bob', 'Charlie'],\n",
    "    'Age': [25, 30, 35]\n",
    "})\n",
    "\n",
    "df2 = pd.DataFrame({\n",
    "    'ID': [1, 2, 3],\n",
    "    'Name': ['Alice', 'Robert', 'Charlie'],\n",
    "    'Age': [25, 30, 35]\n",
    "})\n",
    "\n",
    "# Compare the two DataFrames\n",
    "df_diff = df1.compare(df2)\n",
    "\n",
    "# Display the differences\n",
    "print(df_diff)\n"
   ]
  },
  {
   "cell_type": "code",
   "execution_count": 12,
   "metadata": {},
   "outputs": [
    {
     "name": "stdout",
     "output_type": "stream",
     "text": [
      "Original DataFrame:\n",
      "   A  B    C\n",
      "0  1  a  4.0\n",
      "1  2  b  5.0\n",
      "2  3  c  6.0\n",
      "\n",
      "DataFrame after swapping columns:\n",
      "   A    B  C\n",
      "0  1  4.0  a\n",
      "1  2  5.0  b\n",
      "2  3  6.0  c\n"
     ]
    }
   ],
   "source": [
    "import pandas as pd\n",
    "\n",
    "# Create an example DataFrame\n",
    "df = pd.DataFrame({\n",
    "    'A': [1, 2, 3],\n",
    "    'B': ['a', 'b', 'c'],\n",
    "    'C': [4.0, 5.0, 6.0]\n",
    "})\n",
    "\n",
    "# Display the original DataFrame\n",
    "print(\"Original DataFrame:\")\n",
    "print(df)\n",
    "\n",
    "# Swap columns 'B' and 'C'\n",
    "df['B'], df['C'] = df['C'], df['B']\n",
    "\n",
    "# Display the DataFrame after swapping\n",
    "print(\"\\nDataFrame after swapping columns:\")\n",
    "print(df)\n"
   ]
  },
  {
   "cell_type": "code",
   "execution_count": 13,
   "metadata": {},
   "outputs": [
    {
     "name": "stdout",
     "output_type": "stream",
     "text": [
      "   A  B  C\n",
      "0  1  4  7\n",
      "1  2  5  8\n",
      "2  3  6  9\n",
      "   A  B  C\n",
      "0  7  4  1\n",
      "1  8  5  2\n",
      "2  9  6  3\n"
     ]
    }
   ],
   "source": [
    "import pandas as pd\n",
    "\n",
    "# Create an example DataFrame\n",
    "df = pd.DataFrame({\n",
    "    'A': [1, 2, 3],\n",
    "    'B': [4, 5, 6],\n",
    "    'C': [7, 8, 9]\n",
    "})\n",
    "\n",
    "# Columns to swap\n",
    "column1 = 'A'\n",
    "column3 = 'C'\n",
    "print(df)\n",
    "# Swap the values in columns 1 and 3\n",
    "df[column1], df[column3] = df[column3].copy(), df[column1].copy()\n",
    "\n",
    "# Display the DataFrame with swapped values\n",
    "print(df)\n"
   ]
  },
  {
   "cell_type": "code",
   "execution_count": 14,
   "metadata": {},
   "outputs": [
    {
     "name": "stdout",
     "output_type": "stream",
     "text": [
      "   B  C  A\n",
      "0  4  7  1\n",
      "1  5  8  2\n",
      "2  6  9  3\n"
     ]
    }
   ],
   "source": [
    "import pandas as pd\n",
    "\n",
    "# Create an example DataFrame\n",
    "df = pd.DataFrame({\n",
    "    'A': [1, 2, 3],\n",
    "    'B': [4, 5, 6],\n",
    "    'C': [7, 8, 9]\n",
    "})\n",
    "\n",
    "# Move the first column to the last\n",
    "df = df[df.columns[1:].tolist() + [df.columns[0]]]\n",
    "\n",
    "# Display the DataFrame with the first column moved to the last\n",
    "print(df)\n"
   ]
  },
  {
   "cell_type": "code",
   "execution_count": 15,
   "metadata": {},
   "outputs": [
    {
     "name": "stdout",
     "output_type": "stream",
     "text": [
      "   A  C  B   D\n",
      "0  1  7  4  10\n",
      "1  2  8  5  11\n",
      "2  3  9  6  12\n"
     ]
    }
   ],
   "source": [
    "import pandas as pd\n",
    "\n",
    "# Create an example DataFrame\n",
    "df = pd.DataFrame({\n",
    "    'A': [1, 2, 3],\n",
    "    'B': [4, 5, 6],\n",
    "    'C': [7, 8, 9],\n",
    "    'D': [10, 11, 12]\n",
    "})\n",
    "\n",
    "# Get the column names\n",
    "columns = df.columns.tolist()\n",
    "\n",
    "# Define the new order of columns\n",
    "new_order = [columns[0], columns[2], columns[1], columns[3]]\n",
    "\n",
    "# Reorder the DataFrame columns\n",
    "df = df[new_order]\n",
    "\n",
    "# Display the DataFrame with the second column moved to the fourth and the third column to the second\n",
    "print(df)\n"
   ]
  },
  {
   "cell_type": "code",
   "execution_count": 47,
   "metadata": {},
   "outputs": [
    {
     "name": "stdout",
     "output_type": "stream",
     "text": [
      "              occurred mc_no mc_status\n",
      "0  2025-01-14 11:12:13   A06       run\n"
     ]
    }
   ],
   "source": [
    "import pandas as pd\n",
    "\n",
    "# Create two sample DataFrames\n",
    "insert_db = {'occurred': ['2025-01-14 11:12:13','2025-02-14 11:12:13', '2025-03-14 11:12:13'],\n",
    "         'mc_no': ['A06', 'A02', 'A03'],\n",
    "         'mc_status': ['run', 'run', 'run']}\n",
    "df1 = pd.DataFrame(insert_db)\n",
    "\n",
    "query_db = {'occurred': ['2025-01-14 11:12:13','2025-02-14 11:12:13', '2025-03-14 11:12:13'],\n",
    "         'mc_no': ['A01', 'A02', 'A03'],\n",
    "         'mc_status': ['run', 'run', 'run']}\n",
    "df2 = pd.DataFrame(query_db)\n",
    "\n",
    "# Merge the DataFrames based on specific columns\n",
    "merged_df = pd.merge(df2, df1, on=['occurred', 'mc_no','mc_status'], how='right', indicator = True)\n",
    "merged_df = merged_df[merged_df['_merge']=='right_only'].drop(columns=['_merge'])\n",
    "print(merged_df)\n"
   ]
  }
 ],
 "metadata": {
  "kernelspec": {
   "display_name": "Python 3",
   "language": "python",
   "name": "python3"
  },
  "language_info": {
   "codemirror_mode": {
    "name": "ipython",
    "version": 3
   },
   "file_extension": ".py",
   "mimetype": "text/x-python",
   "name": "python",
   "nbconvert_exporter": "python",
   "pygments_lexer": "ipython3",
   "version": "3.12.1"
  }
 },
 "nbformat": 4,
 "nbformat_minor": 2
}
